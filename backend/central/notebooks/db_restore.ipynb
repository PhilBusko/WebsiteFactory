{
 "cells": [
  {
   "cell_type": "markdown",
   "metadata": {},
   "source": [
    "# Database Restore\n",
    "\n",
    "**Objective:** Restore a database from CSV files in /data/backup/."
   ]
  },
  {
   "cell_type": "code",
   "execution_count": 1,
   "metadata": {},
   "outputs": [],
   "source": [
    "import os, sys, time\n",
    "import pandas as PD"
   ]
  },
  {
   "cell_type": "code",
   "execution_count": 2,
   "metadata": {},
   "outputs": [
    {
     "name": "stdout",
     "output_type": "stream",
     "text": [
      "['DataframeToDicts', 'FigureToJson', 'GetRandom', 'NOTEBOOK_ENV']\n"
     ]
    }
   ],
   "source": [
    "BACKEND_PATH = os.path.dirname(os.path.dirname(os.getcwd()))\n",
    "APPPROJ_PATH = os.path.join(BACKEND_PATH, 'app_proj')\n",
    "sys.path.append(APPPROJ_PATH)\n",
    "import notebooks as NT\n",
    "print([x for x in dir(NT) if '__' not in x and len(x)>8])"
   ]
  },
  {
   "cell_type": "code",
   "execution_count": 3,
   "metadata": {
    "scrolled": false
   },
   "outputs": [
    {
     "name": "stdout",
     "output_type": "stream",
     "text": [
      "env: DEV\n"
     ]
    }
   ],
   "source": [
    "import django\n",
    "os.environ['DEPLOYMENT_ENV'] = NT.NOTEBOOK_ENV\n",
    "os.environ['DJANGO_ALLOW_ASYNC_UNSAFE'] = 'True'\n",
    "MODULE_PATH = os.path.dirname(os.getcwd())\n",
    "os.chdir(os.path.dirname(MODULE_PATH))\n",
    "django.setup()"
   ]
  },
  {
   "cell_type": "code",
   "execution_count": 4,
   "metadata": {},
   "outputs": [
    {
     "name": "stdout",
     "output_type": "stream",
     "text": [
      "['BaseManager', 'DeleteRecord', 'DeleteTable', 'GetNativeTableCounts', 'GetRecord', 'GetTableCounts', 'GetTableDictionary', 'InsertBulk', 'InsertSingle', 'MD', 'time']\n"
     ]
    }
   ],
   "source": [
    "import django.db.models as JM \n",
    "import database as DB\n",
    "print([x for x in dir(DB) if x[0] != '_'])"
   ]
  },
  {
   "cell_type": "code",
   "execution_count": 5,
   "metadata": {
    "scrolled": true
   },
   "outputs": [
    {
     "data": {
      "text/plain": [
       "True"
      ]
     },
     "execution_count": 5,
     "metadata": {},
     "output_type": "execute_result"
    }
   ],
   "source": [
    "DATA_PATH = os.path.join(MODULE_PATH, 'data')\n",
    "os.path.exists(DATA_PATH)"
   ]
  },
  {
   "cell_type": "code",
   "execution_count": 6,
   "metadata": {},
   "outputs": [],
   "source": [
    "%load_ext autoreload\n",
    "%autoreload 2\n",
    "from IPython.core.interactiveshell import InteractiveShell\n",
    "InteractiveShell.ast_node_interactivity = 'all'\n",
    "import IPython.display as DS \n",
    "from ipywidgets import IntProgress"
   ]
  },
  {
   "cell_type": "markdown",
   "metadata": {},
   "source": [
    "### Restore"
   ]
  },
  {
   "cell_type": "code",
   "execution_count": 7,
   "metadata": {
    "scrolled": false
   },
   "outputs": [
    {
     "name": "stdout",
     "output_type": "stream",
     "text": [
      "members User 0\n"
     ]
    },
    {
     "data": {
      "application/vnd.jupyter.widget-view+json": {
       "model_id": "b183449356304370b6755e8466623f4f",
       "version_major": 2,
       "version_minor": 0
      },
      "text/plain": [
       "IntProgress(value=0, max=1)"
      ]
     },
     "metadata": {},
     "output_type": "display_data"
    },
    {
     "name": "stdout",
     "output_type": "stream",
     "text": [
      "movies Load_InternetMDB 6\n"
     ]
    },
    {
     "data": {
      "application/vnd.jupyter.widget-view+json": {
       "model_id": "b04bb8ec7fba43fe8335e89b954d8baf",
       "version_major": 2,
       "version_minor": 0
      },
      "text/plain": [
       "IntProgress(value=0, max=6)"
      ]
     },
     "metadata": {},
     "output_type": "display_data"
    },
    {
     "name": "stdout",
     "output_type": "stream",
     "text": [
      "movies Load_MovieDB 28\n"
     ]
    },
    {
     "data": {
      "application/vnd.jupyter.widget-view+json": {
       "model_id": "ed5f2e53f742483f9935a122b7901482",
       "version_major": 2,
       "version_minor": 0
      },
      "text/plain": [
       "IntProgress(value=0, max=28)"
      ]
     },
     "metadata": {},
     "output_type": "display_data"
    },
    {
     "name": "stdout",
     "output_type": "stream",
     "text": [
      "movies Load_RottenTomatoes 6\n"
     ]
    },
    {
     "data": {
      "application/vnd.jupyter.widget-view+json": {
       "model_id": "f9c0798fd6cc438e8b30307bf9fba81b",
       "version_major": 2,
       "version_minor": 0
      },
      "text/plain": [
       "IntProgress(value=0, max=6)"
      ]
     },
     "metadata": {},
     "output_type": "display_data"
    },
    {
     "name": "stdout",
     "output_type": "stream",
     "text": [
      "movies MasterMovie 0\n"
     ]
    },
    {
     "data": {
      "application/vnd.jupyter.widget-view+json": {
       "model_id": "8a812ddac41b44ed93ee4d0d1873f475",
       "version_major": 2,
       "version_minor": 0
      },
      "text/plain": [
       "IntProgress(value=0, max=1)"
      ]
     },
     "metadata": {},
     "output_type": "display_data"
    },
    {
     "name": "stdout",
     "output_type": "stream",
     "text": [
      "movies StreamingMovie 3\n"
     ]
    },
    {
     "data": {
      "application/vnd.jupyter.widget-view+json": {
       "model_id": "277650e955da4335916842e791293b1f",
       "version_major": 2,
       "version_minor": 0
      },
      "text/plain": [
       "IntProgress(value=0, max=3)"
      ]
     },
     "metadata": {},
     "output_type": "display_data"
    },
    {
     "name": "stdout",
     "output_type": "stream",
     "text": [
      "movies StreamingService 1\n"
     ]
    },
    {
     "data": {
      "application/vnd.jupyter.widget-view+json": {
       "model_id": "722e20fd8ae040a6bf180a6165729612",
       "version_major": 2,
       "version_minor": 0
      },
      "text/plain": [
       "IntProgress(value=0, max=1)"
      ]
     },
     "metadata": {},
     "output_type": "display_data"
    }
   ],
   "source": [
    "backupPath = os.path.join(DATA_PATH, 'backup')\n",
    "moduleLs = [m.name for m in os.scandir(backupPath) if m.is_dir()]\n",
    "\n",
    "for m in moduleLs:\n",
    "    modulePath = os.path.join(backupPath, m)\n",
    "    tableLs = [t.name for t in os.scandir(modulePath) if t.is_dir()]\n",
    "        \n",
    "    for t in tableLs:\n",
    "        tablePath = os.path.join(modulePath, t)\n",
    "        fileLs = [f.name for f in os.scandir(tablePath) if not f.is_dir()]\n",
    "        \n",
    "        print(m, t, len(fileLs))\n",
    "        progressBar = IntProgress(min=0, max=len(fileLs) or 1) \n",
    "        DS.display(progressBar) \n",
    "\n",
    "        if len(fileLs) == 0:\n",
    "            progressBar.value += 1\n",
    "\n",
    "        for f in fileLs:\n",
    "            filePath = os.path.join(tablePath, f)\n",
    "            blockDf = PD.read_csv(filePath)\n",
    "            blockLs = NT.DataframeToDicts(blockDf)\n",
    "            DB.InsertBulk(m, t, blockLs)\n",
    "            progressBar.value += 1\n",
    "            #time.sleep(1)"
   ]
  },
  {
   "cell_type": "code",
   "execution_count": 8,
   "metadata": {
    "scrolled": true
   },
   "outputs": [
    {
     "data": {
      "text/html": [
       "<div>\n",
       "<style scoped>\n",
       "    .dataframe tbody tr th:only-of-type {\n",
       "        vertical-align: middle;\n",
       "    }\n",
       "\n",
       "    .dataframe tbody tr th {\n",
       "        vertical-align: top;\n",
       "    }\n",
       "\n",
       "    .dataframe thead th {\n",
       "        text-align: right;\n",
       "    }\n",
       "</style>\n",
       "<table border=\"1\" class=\"dataframe\">\n",
       "  <thead>\n",
       "    <tr style=\"text-align: right;\">\n",
       "      <th></th>\n",
       "      <th>Module</th>\n",
       "      <th>Table</th>\n",
       "      <th>Count</th>\n",
       "    </tr>\n",
       "  </thead>\n",
       "  <tbody>\n",
       "    <tr>\n",
       "      <th>0</th>\n",
       "      <td>members</td>\n",
       "      <td>User</td>\n",
       "      <td>1</td>\n",
       "    </tr>\n",
       "    <tr>\n",
       "      <th>1</th>\n",
       "      <td>movies</td>\n",
       "      <td>MasterMovie</td>\n",
       "      <td>6826</td>\n",
       "    </tr>\n",
       "    <tr>\n",
       "      <th>2</th>\n",
       "      <td>movies</td>\n",
       "      <td>Load_MovieDB</td>\n",
       "      <td>27417</td>\n",
       "    </tr>\n",
       "    <tr>\n",
       "      <th>3</th>\n",
       "      <td>movies</td>\n",
       "      <td>Load_InternetMDB</td>\n",
       "      <td>5488</td>\n",
       "    </tr>\n",
       "    <tr>\n",
       "      <th>4</th>\n",
       "      <td>movies</td>\n",
       "      <td>Load_RottenTomatoes</td>\n",
       "      <td>11701</td>\n",
       "    </tr>\n",
       "    <tr>\n",
       "      <th>5</th>\n",
       "      <td>movies</td>\n",
       "      <td>DataChanges</td>\n",
       "      <td>6</td>\n",
       "    </tr>\n",
       "    <tr>\n",
       "      <th>6</th>\n",
       "      <td>movies</td>\n",
       "      <td>StreamingService</td>\n",
       "      <td>71</td>\n",
       "    </tr>\n",
       "    <tr>\n",
       "      <th>7</th>\n",
       "      <td>movies</td>\n",
       "      <td>StreamingMovie</td>\n",
       "      <td>2012</td>\n",
       "    </tr>\n",
       "    <tr>\n",
       "      <th>8</th>\n",
       "      <td>central</td>\n",
       "      <td>UserProfile</td>\n",
       "      <td>1</td>\n",
       "    </tr>\n",
       "    <tr>\n",
       "      <th>9</th>\n",
       "      <td>central</td>\n",
       "      <td>VotedStars</td>\n",
       "      <td>28</td>\n",
       "    </tr>\n",
       "  </tbody>\n",
       "</table>\n",
       "</div>"
      ],
      "text/plain": [
       "    Module                Table  Count\n",
       "0  members                 User      1\n",
       "1   movies          MasterMovie   6826\n",
       "2   movies         Load_MovieDB  27417\n",
       "3   movies     Load_InternetMDB   5488\n",
       "4   movies  Load_RottenTomatoes  11701\n",
       "5   movies          DataChanges      6\n",
       "6   movies     StreamingService     71\n",
       "7   movies       StreamingMovie   2012\n",
       "8  central          UserProfile      1\n",
       "9  central           VotedStars     28"
      ]
     },
     "execution_count": 8,
     "metadata": {},
     "output_type": "execute_result"
    }
   ],
   "source": [
    "summaryLs = DB.GetTableCounts()\n",
    "PD.DataFrame(summaryLs)"
   ]
  },
  {
   "cell_type": "code",
   "execution_count": 9,
   "metadata": {
    "scrolled": true
   },
   "outputs": [],
   "source": [
    "#DB.DeleteTable('movies', 'StreamingService')"
   ]
  },
  {
   "cell_type": "markdown",
   "metadata": {},
   "source": [
    "### Check Results"
   ]
  },
  {
   "cell_type": "code",
   "execution_count": 10,
   "metadata": {
    "scrolled": false
   },
   "outputs": [
    {
     "data": {
      "text/html": [
       "<div>\n",
       "<style scoped>\n",
       "    .dataframe tbody tr th:only-of-type {\n",
       "        vertical-align: middle;\n",
       "    }\n",
       "\n",
       "    .dataframe tbody tr th {\n",
       "        vertical-align: top;\n",
       "    }\n",
       "\n",
       "    .dataframe thead th {\n",
       "        text-align: right;\n",
       "    }\n",
       "</style>\n",
       "<table border=\"1\" class=\"dataframe\">\n",
       "  <thead>\n",
       "    <tr style=\"text-align: right;\">\n",
       "      <th></th>\n",
       "      <th>id</th>\n",
       "      <th>TmdbId</th>\n",
       "      <th>Title</th>\n",
       "      <th>OriginalTitle</th>\n",
       "      <th>ReleaseDate</th>\n",
       "      <th>Genres</th>\n",
       "      <th>Collection</th>\n",
       "      <th>Synopsis</th>\n",
       "      <th>Crew</th>\n",
       "      <th>Cast</th>\n",
       "      <th>Companies</th>\n",
       "      <th>Countries</th>\n",
       "      <th>Poster</th>\n",
       "      <th>RunTime</th>\n",
       "      <th>Budget</th>\n",
       "      <th>Gross</th>\n",
       "      <th>Score</th>\n",
       "      <th>ScoreVotes</th>\n",
       "    </tr>\n",
       "  </thead>\n",
       "  <tbody>\n",
       "    <tr>\n",
       "      <th>24244</th>\n",
       "      <td>24245</td>\n",
       "      <td>849135</td>\n",
       "      <td>La Ticla</td>\n",
       "      <td>La Ticla</td>\n",
       "      <td>2020-01-01</td>\n",
       "      <td>None</td>\n",
       "      <td>None</td>\n",
       "      <td>\"This 50D Ektachrome reel showcases some of th...</td>\n",
       "      <td>Dan Smeby</td>\n",
       "      <td>None</td>\n",
       "      <td>None</td>\n",
       "      <td>Canada</td>\n",
       "      <td>/hb05ld27RVoXxOWwMnsH4166IMm.jpg</td>\n",
       "      <td>3.0</td>\n",
       "      <td>NaN</td>\n",
       "      <td>NaN</td>\n",
       "      <td>0.0</td>\n",
       "      <td>0</td>\n",
       "    </tr>\n",
       "    <tr>\n",
       "      <th>24245</th>\n",
       "      <td>24246</td>\n",
       "      <td>848758</td>\n",
       "      <td>Tender</td>\n",
       "      <td>Тендер</td>\n",
       "      <td>2020-01-01</td>\n",
       "      <td>Drama, Comedy, Crime</td>\n",
       "      <td>None</td>\n",
       "      <td>Two former law school classmates decide to go ...</td>\n",
       "      <td>Berik Oshakbaev</td>\n",
       "      <td>Daniyar Tazhenov, Bekzat Dostanov, Gulnara Sab...</td>\n",
       "      <td>None</td>\n",
       "      <td>Kazakhstan</td>\n",
       "      <td>/rKcKSGkVR9zms2mXVk3VpuLnTEq.jpg</td>\n",
       "      <td>NaN</td>\n",
       "      <td>NaN</td>\n",
       "      <td>NaN</td>\n",
       "      <td>0.0</td>\n",
       "      <td>0</td>\n",
       "    </tr>\n",
       "  </tbody>\n",
       "</table>\n",
       "</div>"
      ],
      "text/plain": [
       "          id  TmdbId     Title OriginalTitle ReleaseDate  \\\n",
       "24244  24245  849135  La Ticla      La Ticla  2020-01-01   \n",
       "24245  24246  848758    Tender        Тендер  2020-01-01   \n",
       "\n",
       "                     Genres Collection  \\\n",
       "24244                  None       None   \n",
       "24245  Drama, Comedy, Crime       None   \n",
       "\n",
       "                                                Synopsis             Crew  \\\n",
       "24244  \"This 50D Ektachrome reel showcases some of th...        Dan Smeby   \n",
       "24245  Two former law school classmates decide to go ...  Berik Oshakbaev   \n",
       "\n",
       "                                                    Cast Companies  \\\n",
       "24244                                               None      None   \n",
       "24245  Daniyar Tazhenov, Bekzat Dostanov, Gulnara Sab...      None   \n",
       "\n",
       "        Countries                            Poster  RunTime  Budget  Gross  \\\n",
       "24244      Canada  /hb05ld27RVoXxOWwMnsH4166IMm.jpg      3.0     NaN    NaN   \n",
       "24245  Kazakhstan  /rKcKSGkVR9zms2mXVk3VpuLnTEq.jpg      NaN     NaN    NaN   \n",
       "\n",
       "       Score  ScoreVotes  \n",
       "24244    0.0           0  \n",
       "24245    0.0           0  "
      ]
     },
     "execution_count": 10,
     "metadata": {},
     "output_type": "execute_result"
    }
   ],
   "source": [
    "mainLs = DB.GetTableDictionary('movies', 'Load_MovieDB')\n",
    "mainDf = PD.DataFrame(mainLs)\n",
    "NT.GetRandom(mainDf, 2)"
   ]
  },
  {
   "cell_type": "code",
   "execution_count": 11,
   "metadata": {},
   "outputs": [
    {
     "data": {
      "text/html": [
       "<div>\n",
       "<style scoped>\n",
       "    .dataframe tbody tr th:only-of-type {\n",
       "        vertical-align: middle;\n",
       "    }\n",
       "\n",
       "    .dataframe tbody tr th {\n",
       "        vertical-align: top;\n",
       "    }\n",
       "\n",
       "    .dataframe thead th {\n",
       "        text-align: right;\n",
       "    }\n",
       "</style>\n",
       "<table border=\"1\" class=\"dataframe\">\n",
       "  <thead>\n",
       "    <tr style=\"text-align: right;\">\n",
       "      <th></th>\n",
       "      <th>id</th>\n",
       "      <th>TmdbId</th>\n",
       "      <th>Title</th>\n",
       "      <th>OriginalTitle</th>\n",
       "      <th>ReleaseDate</th>\n",
       "      <th>Genres</th>\n",
       "      <th>Collection</th>\n",
       "      <th>Synopsis</th>\n",
       "      <th>Crew</th>\n",
       "      <th>Cast</th>\n",
       "      <th>Companies</th>\n",
       "      <th>Countries</th>\n",
       "      <th>Poster</th>\n",
       "      <th>RunTime</th>\n",
       "      <th>Budget</th>\n",
       "      <th>Gross</th>\n",
       "      <th>Score</th>\n",
       "      <th>ScoreVotes</th>\n",
       "    </tr>\n",
       "  </thead>\n",
       "  <tbody>\n",
       "    <tr>\n",
       "      <th>14844</th>\n",
       "      <td>14845</td>\n",
       "      <td>242293</td>\n",
       "      <td>The Precinct</td>\n",
       "      <td>Sahə</td>\n",
       "      <td>2010-01-01</td>\n",
       "      <td>Drama, Thriller</td>\n",
       "      <td>None</td>\n",
       "      <td>Baku, Azerbaijan. A famous photographer postpo...</td>\n",
       "      <td>Ilgar Safat</td>\n",
       "      <td>Zaza Bejashvili, Melissa Papel, Vaqif Ibrahimo...</td>\n",
       "      <td>Narimanfilm, Georgianfilm, Bagirafilm</td>\n",
       "      <td>Azerbaijan, Georgia, Georgia, Azerbaijan, Georgia</td>\n",
       "      <td>/qd2oSOpGITzUe2ZjklXJvdjG4ll.jpg</td>\n",
       "      <td>116.0</td>\n",
       "      <td>NaN</td>\n",
       "      <td>NaN</td>\n",
       "      <td>5.0</td>\n",
       "      <td>3</td>\n",
       "    </tr>\n",
       "    <tr>\n",
       "      <th>14849</th>\n",
       "      <td>14850</td>\n",
       "      <td>238800</td>\n",
       "      <td>The Light</td>\n",
       "      <td>灯花</td>\n",
       "      <td>2010-01-01</td>\n",
       "      <td>Animation</td>\n",
       "      <td>None</td>\n",
       "      <td>A streetlight that breaks and falls to the gro...</td>\n",
       "      <td>Yuta Sukegawa</td>\n",
       "      <td>None</td>\n",
       "      <td>None</td>\n",
       "      <td>Japan</td>\n",
       "      <td>None</td>\n",
       "      <td>7.0</td>\n",
       "      <td>NaN</td>\n",
       "      <td>NaN</td>\n",
       "      <td>0.0</td>\n",
       "      <td>0</td>\n",
       "    </tr>\n",
       "    <tr>\n",
       "      <th>14853</th>\n",
       "      <td>14854</td>\n",
       "      <td>232359</td>\n",
       "      <td>See Sing Confirm</td>\n",
       "      <td>4 สิงห์คอนเฟิร์ม</td>\n",
       "      <td>2010-01-06</td>\n",
       "      <td>Action, Comedy</td>\n",
       "      <td>None</td>\n",
       "      <td>Four people decide to team up to save their ki...</td>\n",
       "      <td>Widit Tanyapan</td>\n",
       "      <td>Sittichai Pabchompoo, Boriboon Junreurng, Rich...</td>\n",
       "      <td>None</td>\n",
       "      <td>Thailand</td>\n",
       "      <td>None</td>\n",
       "      <td>95.0</td>\n",
       "      <td>NaN</td>\n",
       "      <td>NaN</td>\n",
       "      <td>4.5</td>\n",
       "      <td>1</td>\n",
       "    </tr>\n",
       "    <tr>\n",
       "      <th>14863</th>\n",
       "      <td>14864</td>\n",
       "      <td>224064</td>\n",
       "      <td>The Bisexual Revolution</td>\n",
       "      <td>La bisexualité: Tout un art?</td>\n",
       "      <td>2010-01-01</td>\n",
       "      <td>Documentary</td>\n",
       "      <td>None</td>\n",
       "      <td>Believe it or not, Mick Jagger was not the fir...</td>\n",
       "      <td>Laure Michel, Eric Wastiaux</td>\n",
       "      <td>None</td>\n",
       "      <td>None</td>\n",
       "      <td>France</td>\n",
       "      <td>/ck51GNtHE4E3GhyPWZFWYOL4tJH.jpg</td>\n",
       "      <td>61.0</td>\n",
       "      <td>NaN</td>\n",
       "      <td>NaN</td>\n",
       "      <td>1.0</td>\n",
       "      <td>1</td>\n",
       "    </tr>\n",
       "  </tbody>\n",
       "</table>\n",
       "</div>"
      ],
      "text/plain": [
       "          id  TmdbId                    Title                 OriginalTitle  \\\n",
       "14844  14845  242293             The Precinct                          Sahə   \n",
       "14849  14850  238800                The Light                            灯花   \n",
       "14853  14854  232359         See Sing Confirm              4 สิงห์คอนเฟิร์ม   \n",
       "14863  14864  224064  The Bisexual Revolution  La bisexualité: Tout un art?   \n",
       "\n",
       "      ReleaseDate           Genres Collection  \\\n",
       "14844  2010-01-01  Drama, Thriller       None   \n",
       "14849  2010-01-01        Animation       None   \n",
       "14853  2010-01-06   Action, Comedy       None   \n",
       "14863  2010-01-01      Documentary       None   \n",
       "\n",
       "                                                Synopsis  \\\n",
       "14844  Baku, Azerbaijan. A famous photographer postpo...   \n",
       "14849  A streetlight that breaks and falls to the gro...   \n",
       "14853  Four people decide to team up to save their ki...   \n",
       "14863  Believe it or not, Mick Jagger was not the fir...   \n",
       "\n",
       "                              Crew  \\\n",
       "14844                  Ilgar Safat   \n",
       "14849                Yuta Sukegawa   \n",
       "14853               Widit Tanyapan   \n",
       "14863  Laure Michel, Eric Wastiaux   \n",
       "\n",
       "                                                    Cast  \\\n",
       "14844  Zaza Bejashvili, Melissa Papel, Vaqif Ibrahimo...   \n",
       "14849                                               None   \n",
       "14853  Sittichai Pabchompoo, Boriboon Junreurng, Rich...   \n",
       "14863                                               None   \n",
       "\n",
       "                                   Companies  \\\n",
       "14844  Narimanfilm, Georgianfilm, Bagirafilm   \n",
       "14849                                   None   \n",
       "14853                                   None   \n",
       "14863                                   None   \n",
       "\n",
       "                                               Countries  \\\n",
       "14844  Azerbaijan, Georgia, Georgia, Azerbaijan, Georgia   \n",
       "14849                                              Japan   \n",
       "14853                                           Thailand   \n",
       "14863                                             France   \n",
       "\n",
       "                                 Poster  RunTime  Budget  Gross  Score  \\\n",
       "14844  /qd2oSOpGITzUe2ZjklXJvdjG4ll.jpg    116.0     NaN    NaN    5.0   \n",
       "14849                              None      7.0     NaN    NaN    0.0   \n",
       "14853                              None     95.0     NaN    NaN    4.5   \n",
       "14863  /ck51GNtHE4E3GhyPWZFWYOL4tJH.jpg     61.0     NaN    NaN    1.0   \n",
       "\n",
       "       ScoreVotes  \n",
       "14844           3  \n",
       "14849           0  \n",
       "14853           1  \n",
       "14863           1  "
      ]
     },
     "execution_count": 11,
     "metadata": {},
     "output_type": "execute_result"
    }
   ],
   "source": [
    "# the non-english characters are preserved\n",
    "# they aren't displayed properly when opened in excel \n",
    "\n",
    "checkDf = mainDf[mainDf['Title']!=mainDf['OriginalTitle']]\n",
    "NT.GetRandom(checkDf, 4)"
   ]
  },
  {
   "cell_type": "code",
   "execution_count": null,
   "metadata": {},
   "outputs": [],
   "source": []
  }
 ],
 "metadata": {
  "kernelspec": {
   "display_name": "Python 3 (ipykernel)",
   "language": "python",
   "name": "python3"
  },
  "language_info": {
   "codemirror_mode": {
    "name": "ipython",
    "version": 3
   },
   "file_extension": ".py",
   "mimetype": "text/x-python",
   "name": "python",
   "nbconvert_exporter": "python",
   "pygments_lexer": "ipython3",
   "version": "3.8.2"
  }
 },
 "nbformat": 4,
 "nbformat_minor": 4
}
