{
 "cells": [
  {
   "cell_type": "markdown",
   "metadata": {},
   "source": [
    "# Database Backup\n",
    "\n",
    "**Objective:** Backup the whole database to CSV files in /data/."
   ]
  },
  {
   "cell_type": "code",
   "execution_count": 1,
   "metadata": {},
   "outputs": [],
   "source": [
    "import os, sys, shutil, math\n",
    "import pandas as PD"
   ]
  },
  {
   "cell_type": "code",
   "execution_count": 2,
   "metadata": {},
   "outputs": [
    {
     "name": "stdout",
     "output_type": "stream",
     "text": [
      "['DataframeToDicts', 'GetRandom', 'NOTEBOOK_ENV']\n"
     ]
    }
   ],
   "source": [
    "BACKEND_PATH = os.path.dirname(os.path.dirname(os.getcwd()))\n",
    "APPPROJ_PATH = os.path.join(BACKEND_PATH, 'app_proj')\n",
    "sys.path.append(APPPROJ_PATH)\n",
    "import notebooks as NT\n",
    "print([x for x in dir(NT) if x[0]!='_' and len(x)>8])"
   ]
  },
  {
   "cell_type": "code",
   "execution_count": 3,
   "metadata": {},
   "outputs": [
    {
     "data": {
      "text/plain": [
       "True"
      ]
     },
     "execution_count": 3,
     "metadata": {},
     "output_type": "execute_result"
    }
   ],
   "source": [
    "MODULE_PATH = os.path.dirname(os.getcwd())\n",
    "DATA_PATH = os.path.join(MODULE_PATH, 'data')\n",
    "os.path.exists(DATA_PATH)"
   ]
  },
  {
   "cell_type": "code",
   "execution_count": 4,
   "metadata": {
    "scrolled": false
   },
   "outputs": [
    {
     "name": "stdout",
     "output_type": "stream",
     "text": [
      "env: DEV\n"
     ]
    }
   ],
   "source": [
    "import django\n",
    "os.environ['DEPLOYMENT_ENV'] = NT.NOTEBOOK_ENV\n",
    "os.environ['DJANGO_ALLOW_ASYNC_UNSAFE'] = 'True'\n",
    "MODULE_PATH = os.path.dirname(os.getcwd())\n",
    "os.chdir(os.path.dirname(MODULE_PATH))\n",
    "django.setup()"
   ]
  },
  {
   "cell_type": "code",
   "execution_count": 5,
   "metadata": {},
   "outputs": [
    {
     "name": "stdout",
     "output_type": "stream",
     "text": [
      "['BaseManager', 'DeleteTable', 'GetNativeTableCounts', 'GetTableCounts', 'GetTableDictionary', 'InsertBulk', 'InsertSingle']\n"
     ]
    }
   ],
   "source": [
    "import django.db.models as JM \n",
    "import database as DB\n",
    "print([x for x in dir(DB) if x[0]!='_' and len(x)>8])"
   ]
  },
  {
   "cell_type": "code",
   "execution_count": 6,
   "metadata": {},
   "outputs": [],
   "source": [
    "%load_ext autoreload\n",
    "%autoreload 2\n",
    "from IPython.core.interactiveshell import InteractiveShell\n",
    "InteractiveShell.ast_node_interactivity = 'all'\n",
    "import IPython.display as DS \n",
    "from ipywidgets import IntProgress"
   ]
  },
  {
   "cell_type": "markdown",
   "metadata": {},
   "source": [
    "### Backup"
   ]
  },
  {
   "cell_type": "code",
   "execution_count": 7,
   "metadata": {},
   "outputs": [
    {
     "data": {
      "text/html": [
       "<div>\n",
       "<style scoped>\n",
       "    .dataframe tbody tr th:only-of-type {\n",
       "        vertical-align: middle;\n",
       "    }\n",
       "\n",
       "    .dataframe tbody tr th {\n",
       "        vertical-align: top;\n",
       "    }\n",
       "\n",
       "    .dataframe thead th {\n",
       "        text-align: right;\n",
       "    }\n",
       "</style>\n",
       "<table border=\"1\" class=\"dataframe\">\n",
       "  <thead>\n",
       "    <tr style=\"text-align: right;\">\n",
       "      <th></th>\n",
       "      <th>module</th>\n",
       "      <th>table</th>\n",
       "    </tr>\n",
       "  </thead>\n",
       "  <tbody>\n",
       "    <tr>\n",
       "      <th>0</th>\n",
       "      <td>members</td>\n",
       "      <td>User</td>\n",
       "    </tr>\n",
       "    <tr>\n",
       "      <th>1</th>\n",
       "      <td>business_module</td>\n",
       "      <td>LegoSet</td>\n",
       "    </tr>\n",
       "    <tr>\n",
       "      <th>2</th>\n",
       "      <td>central</td>\n",
       "      <td>UserProfile</td>\n",
       "    </tr>\n",
       "  </tbody>\n",
       "</table>\n",
       "</div>"
      ],
      "text/plain": [
       "            module        table\n",
       "0          members         User\n",
       "1  business_module      LegoSet\n",
       "2          central  UserProfile"
      ]
     },
     "execution_count": 7,
     "metadata": {},
     "output_type": "execute_result"
    }
   ],
   "source": [
    "from django.apps import apps\n",
    "\n",
    "customTables = []\n",
    "for module, app in apps.app_configs.items():\n",
    "\n",
    "    if module in ['admin', 'auth', 'contenttypes', 'sessions']:\n",
    "        continue\n",
    "\n",
    "    modelLs = list(app.get_models())\n",
    "    for m in modelLs:        \n",
    "        customTables.append({\n",
    "            'module': module,\n",
    "            'table': str(m).split('.')[-1].replace(\"'>\", \"\"),\n",
    "        })\n",
    "\n",
    "#PD.DataFrame(customTables)\n",
    "NT.GetRandom(PD.DataFrame(customTables), 3)"
   ]
  },
  {
   "cell_type": "code",
   "execution_count": 8,
   "metadata": {},
   "outputs": [
    {
     "data": {
      "text/plain": [
       "True"
      ]
     },
     "execution_count": 8,
     "metadata": {},
     "output_type": "execute_result"
    }
   ],
   "source": [
    "# reset the backup folder\n",
    "\n",
    "backupPath = os.path.join(DATA_PATH, 'backup')\n",
    "\n",
    "if os.path.exists(backupPath):\n",
    "    shutil.rmtree(backupPath)    # os.remove has issues\n",
    "os.mkdir(backupPath)\n",
    "\n",
    "os.path.exists(backupPath)"
   ]
  },
  {
   "cell_type": "code",
   "execution_count": 9,
   "metadata": {
    "scrolled": false
   },
   "outputs": [
    {
     "name": "stdout",
     "output_type": "stream",
     "text": [
      "User | records: 0\n"
     ]
    },
    {
     "data": {
      "application/vnd.jupyter.widget-view+json": {
       "model_id": "1c8b533229464af6b0331852e4d81261",
       "version_major": 2,
       "version_minor": 0
      },
      "text/plain": [
       "IntProgress(value=0, max=1)"
      ]
     },
     "metadata": {},
     "output_type": "display_data"
    },
    {
     "name": "stdout",
     "output_type": "stream",
     "text": [
      "LegoSet | records: 6,181\n"
     ]
    },
    {
     "data": {
      "application/vnd.jupyter.widget-view+json": {
       "model_id": "1f75b381c5b14fea9bf7edbec3163bec",
       "version_major": 2,
       "version_minor": 0
      },
      "text/plain": [
       "IntProgress(value=0, max=2)"
      ]
     },
     "metadata": {},
     "output_type": "display_data"
    },
    {
     "name": "stdout",
     "output_type": "stream",
     "text": [
      "UserProfile | records: 0\n"
     ]
    },
    {
     "data": {
      "application/vnd.jupyter.widget-view+json": {
       "model_id": "f863322c22c74bf9bedb96bcb08536b8",
       "version_major": 2,
       "version_minor": 0
      },
      "text/plain": [
       "IntProgress(value=0, max=1)"
      ]
     },
     "metadata": {},
     "output_type": "display_data"
    }
   ],
   "source": [
    "DOC_SIZE = 4000   \n",
    "\n",
    "for n, tb in enumerate(customTables):\n",
    "    #if n > 4: continue\n",
    "    \n",
    "    # get table object \n",
    "    \n",
    "    module = tb['module']\n",
    "    table = tb['table']\n",
    "    \n",
    "    moduleObj = __import__(module)\n",
    "    folderObj = getattr(moduleObj, 'models')\n",
    "    classObj = getattr(folderObj, table)\n",
    "    \n",
    "    selectLs = list(classObj.objects.values('id'))\n",
    "    print(table, '|', f\"records: {len(selectLs):,}\")\n",
    "\n",
    "    # create folder for current table\n",
    "\n",
    "    modulePath = os.path.join(backupPath, module)\n",
    "    if not os.path.exists(modulePath):\n",
    "        os.mkdir(modulePath)\n",
    "    tablePath = os.path.join(backupPath, module, table)\n",
    "    if not os.path.exists(tablePath):\n",
    "        os.mkdir(tablePath)\n",
    "    \n",
    "    # loop over table and output document pages\n",
    "\n",
    "    startId = classObj.objects.aggregate(JM.Min('id'))['id__min'] or 0\n",
    "    endId = classObj.objects.aggregate(JM.Max('id'))['id__max'] or 0\n",
    "    pages = math.ceil((endId - startId +1) / DOC_SIZE)\n",
    "    #print(startId, endId)\n",
    "\n",
    "    progressBar = IntProgress(min=0, max=pages) \n",
    "    DS.display(progressBar) \n",
    "\n",
    "    if startId == 0:\n",
    "        progressBar.value += 1\n",
    "        continue\n",
    "\n",
    "    for p in range(0, pages):\n",
    "        currentStart = startId + p * DOC_SIZE\n",
    "        currentEnd = currentStart + DOC_SIZE\n",
    "        query = classObj.objects.values().filter(id__gte=currentStart).filter(id__lt=currentEnd)\n",
    "        currentRecords = list(query)\n",
    "        #print(currentStart, currentEnd)\n",
    "\n",
    "        currentPath = os.path.join(tablePath, f\"{table}-{str(p+1).zfill(3)}.csv\")\n",
    "        curentDf = PD.DataFrame(currentRecords)\n",
    "        #print('records found:', curentDf.shape[0])\n",
    "        \n",
    "        if not curentDf.empty:\n",
    "            curentDf = curentDf.drop('id', axis=1)\n",
    "            curentDf.to_csv(currentPath, index=False)\n",
    "\n",
    "        progressBar.value += 1"
   ]
  },
  {
   "cell_type": "code",
   "execution_count": null,
   "metadata": {},
   "outputs": [],
   "source": []
  }
 ],
 "metadata": {
  "kernelspec": {
   "display_name": "Python 3 (ipykernel)",
   "language": "python",
   "name": "python3"
  },
  "language_info": {
   "codemirror_mode": {
    "name": "ipython",
    "version": 3
   },
   "file_extension": ".py",
   "mimetype": "text/x-python",
   "name": "python",
   "nbconvert_exporter": "python",
   "pygments_lexer": "ipython3",
   "version": "3.8.2"
  }
 },
 "nbformat": 4,
 "nbformat_minor": 4
}
