{
 "cells": [
  {
   "cell_type": "markdown",
   "metadata": {},
   "source": [
    "# API Development\n",
    "\n",
    "**Objective:** Test and develop API endpoints by making Jupyter calls. Replaces Postman and similar tools, with something that lives in your codebase."
   ]
  },
  {
   "cell_type": "code",
   "execution_count": 1,
   "metadata": {},
   "outputs": [],
   "source": [
    "import os, sys, requests\n",
    "import pandas as PD"
   ]
  },
  {
   "cell_type": "code",
   "execution_count": 2,
   "metadata": {
    "scrolled": false
   },
   "outputs": [
    {
     "name": "stdout",
     "output_type": "stream",
     "text": [
      "['DataframeToDicts', 'GetRandom', 'NOTEBOOK_ENV']\n"
     ]
    }
   ],
   "source": [
    "BACKEND_PATH = os.path.dirname(os.path.dirname(os.getcwd()))\n",
    "APPPROJ_PATH = os.path.join(BACKEND_PATH, 'app_proj')\n",
    "sys.path.append(APPPROJ_PATH)\n",
    "import notebooks as NT\n",
    "print([x for x in dir(NT) if x[0]!='_' and len(x)>8])"
   ]
  },
  {
   "cell_type": "code",
   "execution_count": 3,
   "metadata": {},
   "outputs": [
    {
     "name": "stdout",
     "output_type": "stream",
     "text": [
      "env: DEV\n"
     ]
    }
   ],
   "source": [
    "import django\n",
    "os.environ['DEPLOYMENT_ENV'] = NT.NOTEBOOK_ENV\n",
    "os.environ['DJANGO_ALLOW_ASYNC_UNSAFE'] = 'True'\n",
    "MODULE_PATH = os.path.dirname(os.getcwd())\n",
    "os.chdir(os.path.dirname(MODULE_PATH))\n",
    "django.setup()"
   ]
  },
  {
   "cell_type": "code",
   "execution_count": 4,
   "metadata": {},
   "outputs": [],
   "source": [
    "%load_ext autoreload\n",
    "%autoreload 2\n",
    "from IPython.core.interactiveshell import InteractiveShell\n",
    "InteractiveShell.ast_node_interactivity = 'all'"
   ]
  },
  {
   "cell_type": "markdown",
   "metadata": {},
   "source": [
    "### Shortcut Functions"
   ]
  },
  {
   "cell_type": "code",
   "execution_count": 5,
   "metadata": {},
   "outputs": [],
   "source": [
    "import urllib\n",
    "DOMAIN = 'http://127.0.0.1:8000'\n",
    "\n",
    "def CreateURL(domain, path, params={}):\n",
    "    url = f\"{domain}/{path}\"\n",
    "    url += urllib.parse.urlencode(params)\n",
    "    return url"
   ]
  },
  {
   "cell_type": "code",
   "execution_count": 6,
   "metadata": {},
   "outputs": [],
   "source": [
    "def MakeGetRequest(url, payload={}):\n",
    "        try:\n",
    "            raw = requests.get(url)\n",
    "        except:\n",
    "            raw = None\n",
    "        if raw:\n",
    "            result = {\n",
    "                'content': raw.json(),\n",
    "                'status': raw.status_code,\n",
    "            }\n",
    "        else:\n",
    "            result = {\n",
    "                'content': 'server exception',\n",
    "                'status': '599',\n",
    "            }\n",
    "        return result"
   ]
  },
  {
   "cell_type": "code",
   "execution_count": 7,
   "metadata": {},
   "outputs": [],
   "source": [
    "def MakePutRequest(url, payload={}):\n",
    "        try:\n",
    "            raw = requests.put(url)\n",
    "        except:\n",
    "            raw = None\n",
    "        if raw:\n",
    "            result = {\n",
    "                'content': raw.json(),\n",
    "                'status': raw.status_code,\n",
    "            }\n",
    "        else:\n",
    "            result = {\n",
    "                'content': 'server exception',\n",
    "                'status': '599',\n",
    "            }\n",
    "        return result"
   ]
  },
  {
   "cell_type": "markdown",
   "metadata": {},
   "source": [
    "### API Calls"
   ]
  },
  {
   "cell_type": "code",
   "execution_count": 10,
   "metadata": {},
   "outputs": [
    {
     "name": "stdout",
     "output_type": "stream",
     "text": [
      "http://127.0.0.1:8000/base-axios/theme-groups/\n"
     ]
    },
    {
     "data": {
      "text/plain": [
       "{'content': ['Technical',\n",
       "  'Modern day',\n",
       "  'Junior',\n",
       "  'Girls',\n",
       "  'Action/Adventure',\n",
       "  'Historical',\n",
       "  'Model making',\n",
       "  'Racing',\n",
       "  'Licensed',\n",
       "  'Constraction'],\n",
       " 'status': 200}"
      ]
     },
     "execution_count": 10,
     "metadata": {},
     "output_type": "execute_result"
    }
   ],
   "source": [
    "# make GET call\n",
    "\n",
    "path = 'base-axios/theme-groups/'\n",
    "url = CreateURL(DOMAIN, path)\n",
    "print(url)\n",
    "result = MakeGetRequest(url)\n",
    "result"
   ]
  },
  {
   "cell_type": "code",
   "execution_count": 9,
   "metadata": {},
   "outputs": [
    {
     "name": "stdout",
     "output_type": "stream",
     "text": [
      "http://127.0.0.1:8000/base-axios/dummy/\n"
     ]
    },
    {
     "data": {
      "text/plain": [
       "{'content': 'server exception', 'status': '599'}"
      ]
     },
     "execution_count": 9,
     "metadata": {},
     "output_type": "execute_result"
    }
   ],
   "source": [
    "# make POST call, how to add parameter?\n",
    "\n",
    "path = 'base-axios/dummy/'\n",
    "url = CreateURL(DOMAIN, path)\n",
    "print(url)\n",
    "result = MakePutRequest(url)\n",
    "result"
   ]
  },
  {
   "cell_type": "code",
   "execution_count": null,
   "metadata": {},
   "outputs": [],
   "source": []
  }
 ],
 "metadata": {
  "kernelspec": {
   "display_name": "Python 3 (ipykernel)",
   "language": "python",
   "name": "python3"
  },
  "language_info": {
   "codemirror_mode": {
    "name": "ipython",
    "version": 3
   },
   "file_extension": ".py",
   "mimetype": "text/x-python",
   "name": "python",
   "nbconvert_exporter": "python",
   "pygments_lexer": "ipython3",
   "version": "3.8.2"
  }
 },
 "nbformat": 4,
 "nbformat_minor": 4
}
