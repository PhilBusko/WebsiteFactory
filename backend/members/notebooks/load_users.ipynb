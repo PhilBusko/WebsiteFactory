{
 "cells": [
  {
   "cell_type": "markdown",
   "metadata": {},
   "source": [
    "# Load Users"
   ]
  },
  {
   "cell_type": "code",
   "execution_count": 1,
   "metadata": {},
   "outputs": [],
   "source": [
    "import os, sys\n",
    "import pandas as PD"
   ]
  },
  {
   "cell_type": "code",
   "execution_count": 2,
   "metadata": {},
   "outputs": [
    {
     "name": "stdout",
     "output_type": "stream",
     "text": [
      "['ConvertFigureToJson', 'NOTEBOOK_ENV']\n"
     ]
    }
   ],
   "source": [
    "BACKEND_PATH = os.path.dirname(os.path.dirname(os.getcwd()))\n",
    "APPPROJ_PATH = os.path.join(BACKEND_PATH, 'app_proj')\n",
    "sys.path.append(APPPROJ_PATH)\n",
    "import notebooks as NT\n",
    "print([x for x in dir(NT) if x[0] != '_'])"
   ]
  },
  {
   "cell_type": "code",
   "execution_count": 3,
   "metadata": {
    "scrolled": false
   },
   "outputs": [
    {
     "name": "stdout",
     "output_type": "stream",
     "text": [
      "ENV: dev\n"
     ]
    }
   ],
   "source": [
    "import django\n",
    "os.environ['DEPLOYMENT_ENV'] = NT.NOTEBOOK_ENV\n",
    "os.environ['DJANGO_ALLOW_ASYNC_UNSAFE'] = 'True'\n",
    "MODULE_PATH = os.path.dirname(os.getcwd())\n",
    "os.chdir(os.path.dirname(MODULE_PATH))\n",
    "django.setup()"
   ]
  },
  {
   "cell_type": "code",
   "execution_count": 4,
   "metadata": {
    "scrolled": true
   },
   "outputs": [
    {
     "name": "stdout",
     "output_type": "stream",
     "text": [
      "['BaseManager', 'DeleteTable', 'GetNativeTableCounts', 'GetRow', 'GetTableCounts', 'GetTableDictionary', 'InsertBulk', 'InsertSingle']\n"
     ]
    }
   ],
   "source": [
    "import database as DH\n",
    "print([x for x in dir(DH) if x[0] != '_' and len(x) > 2])"
   ]
  },
  {
   "cell_type": "code",
   "execution_count": 5,
   "metadata": {},
   "outputs": [],
   "source": [
    "%load_ext autoreload\n",
    "%autoreload 2\n",
    "from IPython.core.interactiveshell import InteractiveShell\n",
    "InteractiveShell.ast_node_interactivity = 'all'"
   ]
  },
  {
   "cell_type": "markdown",
   "metadata": {},
   "source": [
    "### Create Users"
   ]
  },
  {
   "cell_type": "code",
   "execution_count": 6,
   "metadata": {
    "scrolled": false
   },
   "outputs": [
    {
     "name": "stdout",
     "output_type": "stream",
     "text": [
      "<class 'members.models.User'>\n"
     ]
    }
   ],
   "source": [
    "from django.contrib.auth import get_user_model\n",
    "userMd = get_user_model()\n",
    "print(userMd)"
   ]
  },
  {
   "cell_type": "code",
   "execution_count": 7,
   "metadata": {},
   "outputs": [
    {
     "data": {
      "text/plain": [
       "(0, {})"
      ]
     },
     "execution_count": 7,
     "metadata": {},
     "output_type": "execute_result"
    },
    {
     "data": {
      "text/html": [
       "<div>\n",
       "<style scoped>\n",
       "    .dataframe tbody tr th:only-of-type {\n",
       "        vertical-align: middle;\n",
       "    }\n",
       "\n",
       "    .dataframe tbody tr th {\n",
       "        vertical-align: top;\n",
       "    }\n",
       "\n",
       "    .dataframe thead th {\n",
       "        text-align: right;\n",
       "    }\n",
       "</style>\n",
       "<table border=\"1\" class=\"dataframe\">\n",
       "  <thead>\n",
       "    <tr style=\"text-align: right;\">\n",
       "      <th></th>\n",
       "    </tr>\n",
       "  </thead>\n",
       "  <tbody>\n",
       "  </tbody>\n",
       "</table>\n",
       "</div>"
      ],
      "text/plain": [
       "Empty DataFrame\n",
       "Columns: []\n",
       "Index: []"
      ]
     },
     "execution_count": 7,
     "metadata": {},
     "output_type": "execute_result"
    }
   ],
   "source": [
    "# delete all users\n",
    "\n",
    "userMd.objects.all().delete()\n",
    "selectLs = list(userMd.objects.values())\n",
    "PD.DataFrame(selectLs).drop(['password'], axis=1, errors='ignore')"
   ]
  },
  {
   "cell_type": "code",
   "execution_count": 8,
   "metadata": {
    "scrolled": true
   },
   "outputs": [
    {
     "name": "stdout",
     "output_type": "stream",
     "text": [
      "admin@website-factory.org\n"
     ]
    }
   ],
   "source": [
    "try:\n",
    "    user = userMd.objects.create_superuser(email='admin@website-factory.org', password='WF67hjkl', \n",
    "                                           verified=True, active=True)\n",
    "    print(user)\n",
    "except Exception as ex:\n",
    "    print(ex)"
   ]
  },
  {
   "cell_type": "code",
   "execution_count": 9,
   "metadata": {},
   "outputs": [
    {
     "name": "stdout",
     "output_type": "stream",
     "text": [
      "user.alpha@website-factory.org\n"
     ]
    }
   ],
   "source": [
    "try:\n",
    "    user = userMd.objects.create_user(email='user.alpha@website-factory.org', password='WF91cvbn', \n",
    "                                        verified=False, active=False)\n",
    "    print(user)\n",
    "except Exception as ex:\n",
    "    print(ex)"
   ]
  },
  {
   "cell_type": "code",
   "execution_count": 10,
   "metadata": {},
   "outputs": [
    {
     "name": "stdout",
     "output_type": "stream",
     "text": [
      "user.beta@website-factory.org\n"
     ]
    }
   ],
   "source": [
    "try:\n",
    "    user = userMd.objects.create_user(email='user.beta@website-factory.org', password='WF91cvbn', \n",
    "                                        verified=True, active=True)\n",
    "    print(user)\n",
    "except Exception as ex:\n",
    "    print(ex)"
   ]
  },
  {
   "cell_type": "code",
   "execution_count": 11,
   "metadata": {},
   "outputs": [
    {
     "name": "stdout",
     "output_type": "stream",
     "text": [
      "user.gamma@website-factory.org\n"
     ]
    }
   ],
   "source": [
    "try:\n",
    "    user = userMd.objects.create_user(email='user.gamma@website-factory.org', password='WF91cvbn', \n",
    "                                        verified=True, active=False)\n",
    "    print(user)\n",
    "except Exception as ex:\n",
    "    print(ex)"
   ]
  },
  {
   "cell_type": "markdown",
   "metadata": {},
   "source": [
    "### Check Users"
   ]
  },
  {
   "cell_type": "code",
   "execution_count": 12,
   "metadata": {
    "scrolled": false
   },
   "outputs": [
    {
     "data": {
      "text/html": [
       "<div>\n",
       "<style scoped>\n",
       "    .dataframe tbody tr th:only-of-type {\n",
       "        vertical-align: middle;\n",
       "    }\n",
       "\n",
       "    .dataframe tbody tr th {\n",
       "        vertical-align: top;\n",
       "    }\n",
       "\n",
       "    .dataframe thead th {\n",
       "        text-align: right;\n",
       "    }\n",
       "</style>\n",
       "<table border=\"1\" class=\"dataframe\">\n",
       "  <thead>\n",
       "    <tr style=\"text-align: right;\">\n",
       "      <th></th>\n",
       "      <th>id</th>\n",
       "      <th>last_login</th>\n",
       "      <th>is_superuser</th>\n",
       "      <th>email</th>\n",
       "      <th>user_name</th>\n",
       "      <th>unique_id</th>\n",
       "      <th>verified</th>\n",
       "      <th>active</th>\n",
       "      <th>date_joined</th>\n",
       "    </tr>\n",
       "  </thead>\n",
       "  <tbody>\n",
       "    <tr>\n",
       "      <th>0</th>\n",
       "      <td>10</td>\n",
       "      <td>None</td>\n",
       "      <td>True</td>\n",
       "      <td>admin@website-factory.org</td>\n",
       "      <td>Admin</td>\n",
       "      <td>F65-34C-349</td>\n",
       "      <td>True</td>\n",
       "      <td>True</td>\n",
       "      <td>2022-06-30 15:40:37.385767+00:00</td>\n",
       "    </tr>\n",
       "    <tr>\n",
       "      <th>1</th>\n",
       "      <td>11</td>\n",
       "      <td>None</td>\n",
       "      <td>False</td>\n",
       "      <td>user.alpha@website-factory.org</td>\n",
       "      <td>UserAlpha</td>\n",
       "      <td>161-283-669</td>\n",
       "      <td>False</td>\n",
       "      <td>False</td>\n",
       "      <td>2022-06-30 15:40:37.655359+00:00</td>\n",
       "    </tr>\n",
       "    <tr>\n",
       "      <th>2</th>\n",
       "      <td>12</td>\n",
       "      <td>None</td>\n",
       "      <td>False</td>\n",
       "      <td>user.beta@website-factory.org</td>\n",
       "      <td>UserBeta</td>\n",
       "      <td>BCC-79B-1DA</td>\n",
       "      <td>True</td>\n",
       "      <td>True</td>\n",
       "      <td>2022-06-30 15:40:37.971809+00:00</td>\n",
       "    </tr>\n",
       "    <tr>\n",
       "      <th>3</th>\n",
       "      <td>13</td>\n",
       "      <td>None</td>\n",
       "      <td>False</td>\n",
       "      <td>user.gamma@website-factory.org</td>\n",
       "      <td>UserGamma</td>\n",
       "      <td>33A-CE3-7DE</td>\n",
       "      <td>True</td>\n",
       "      <td>False</td>\n",
       "      <td>2022-06-30 15:40:38.256988+00:00</td>\n",
       "    </tr>\n",
       "  </tbody>\n",
       "</table>\n",
       "</div>"
      ],
      "text/plain": [
       "   id last_login  is_superuser                           email  user_name  \\\n",
       "0  10       None          True       admin@website-factory.org      Admin   \n",
       "1  11       None         False  user.alpha@website-factory.org  UserAlpha   \n",
       "2  12       None         False   user.beta@website-factory.org   UserBeta   \n",
       "3  13       None         False  user.gamma@website-factory.org  UserGamma   \n",
       "\n",
       "     unique_id  verified  active                      date_joined  \n",
       "0  F65-34C-349      True    True 2022-06-30 15:40:37.385767+00:00  \n",
       "1  161-283-669     False   False 2022-06-30 15:40:37.655359+00:00  \n",
       "2  BCC-79B-1DA      True    True 2022-06-30 15:40:37.971809+00:00  \n",
       "3  33A-CE3-7DE      True   False 2022-06-30 15:40:38.256988+00:00  "
      ]
     },
     "execution_count": 12,
     "metadata": {},
     "output_type": "execute_result"
    }
   ],
   "source": [
    "selectLs = list(userMd.objects.values())\n",
    "PD.DataFrame(selectLs).drop(['password'], axis=1, errors='ignore')"
   ]
  },
  {
   "cell_type": "markdown",
   "metadata": {},
   "source": [
    "### Check Sessions"
   ]
  },
  {
   "cell_type": "code",
   "execution_count": 13,
   "metadata": {
    "scrolled": true
   },
   "outputs": [
    {
     "data": {
      "text/html": [
       "<div>\n",
       "<style scoped>\n",
       "    .dataframe tbody tr th:only-of-type {\n",
       "        vertical-align: middle;\n",
       "    }\n",
       "\n",
       "    .dataframe tbody tr th {\n",
       "        vertical-align: top;\n",
       "    }\n",
       "\n",
       "    .dataframe thead th {\n",
       "        text-align: right;\n",
       "    }\n",
       "</style>\n",
       "<table border=\"1\" class=\"dataframe\">\n",
       "  <thead>\n",
       "    <tr style=\"text-align: right;\">\n",
       "      <th></th>\n",
       "      <th>session_key</th>\n",
       "      <th>session_data</th>\n",
       "      <th>expire_date</th>\n",
       "    </tr>\n",
       "  </thead>\n",
       "  <tbody>\n",
       "    <tr>\n",
       "      <th>0</th>\n",
       "      <td>w2n21d7iopsrjctb9l690oggbatbtvz8</td>\n",
       "      <td>e30:1o6vqI:48NvdqwnMcRI-pRjAiuG-oYg9QPMVAs_-mA...</td>\n",
       "      <td>2022-07-14 15:12:30.634535+00:00</td>\n",
       "    </tr>\n",
       "  </tbody>\n",
       "</table>\n",
       "</div>"
      ],
      "text/plain": [
       "                        session_key  \\\n",
       "0  w2n21d7iopsrjctb9l690oggbatbtvz8   \n",
       "\n",
       "                                        session_data  \\\n",
       "0  e30:1o6vqI:48NvdqwnMcRI-pRjAiuG-oYg9QPMVAs_-mA...   \n",
       "\n",
       "                       expire_date  \n",
       "0 2022-07-14 15:12:30.634535+00:00  "
      ]
     },
     "execution_count": 13,
     "metadata": {},
     "output_type": "execute_result"
    }
   ],
   "source": [
    "from django.contrib.sessions.models import Session\n",
    "\n",
    "sessionLs = list(Session.objects.values())\n",
    "PD.DataFrame(sessionLs)"
   ]
  },
  {
   "cell_type": "code",
   "execution_count": 14,
   "metadata": {},
   "outputs": [
    {
     "name": "stderr",
     "output_type": "stream",
     "text": [
      "C:\\Documents\\Code\\OpenStack\\Current\\WebsiteFactory\\v2\\lib\\site-packages\\django\\db\\models\\base.py:364: RuntimeWarning: Model 'members.user_groups' was already registered. Reloading models is not advised as it can lead to inconsistencies, most notably with related models.\n",
      "  new_class._meta.apps.register_model(new_class._meta.app_label, new_class)\n",
      "C:\\Documents\\Code\\OpenStack\\Current\\WebsiteFactory\\v2\\lib\\site-packages\\django\\db\\models\\base.py:364: RuntimeWarning: Model 'members.user_user_permissions' was already registered. Reloading models is not advised as it can lead to inconsistencies, most notably with related models.\n",
      "  new_class._meta.apps.register_model(new_class._meta.app_label, new_class)\n",
      "C:\\Documents\\Code\\OpenStack\\Current\\WebsiteFactory\\v2\\lib\\site-packages\\django\\db\\models\\base.py:364: RuntimeWarning: Model 'members.user' was already registered. Reloading models is not advised as it can lead to inconsistencies, most notably with related models.\n",
      "  new_class._meta.apps.register_model(new_class._meta.app_label, new_class)\n"
     ]
    },
    {
     "name": "stdout",
     "output_type": "stream",
     "text": [
      "['DistributionNotFound', 'get_distribution']\n"
     ]
    }
   ],
   "source": [
    "import rest_framework_simplejwt as JWT\n",
    "print([x for x in dir(JWT) if x[0] != '_' and len(x) > 2])"
   ]
  },
  {
   "cell_type": "code",
   "execution_count": null,
   "metadata": {},
   "outputs": [],
   "source": []
  }
 ],
 "metadata": {
  "kernelspec": {
   "display_name": "Python 3 (ipykernel)",
   "language": "python",
   "name": "python3"
  },
  "language_info": {
   "codemirror_mode": {
    "name": "ipython",
    "version": 3
   },
   "file_extension": ".py",
   "mimetype": "text/x-python",
   "name": "python",
   "nbconvert_exporter": "python",
   "pygments_lexer": "ipython3",
   "version": "3.8.2"
  }
 },
 "nbformat": 4,
 "nbformat_minor": 4
}
