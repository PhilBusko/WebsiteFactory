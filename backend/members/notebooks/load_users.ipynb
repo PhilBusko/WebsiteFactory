{
 "cells": [
  {
   "cell_type": "markdown",
   "metadata": {},
   "source": [
    "# Load Users"
   ]
  },
  {
   "cell_type": "code",
   "execution_count": 1,
   "metadata": {},
   "outputs": [],
   "source": [
    "import os, sys\n",
    "import pandas as PD"
   ]
  },
  {
   "cell_type": "code",
   "execution_count": 2,
   "metadata": {},
   "outputs": [
    {
     "name": "stdout",
     "output_type": "stream",
     "text": [
      "['DataframeToDicts', 'GetRandom', 'NOTEBOOK_ENV']\n"
     ]
    }
   ],
   "source": [
    "BACKEND_PATH = os.path.dirname(os.path.dirname(os.getcwd()))\n",
    "APPPROJ_PATH = os.path.join(BACKEND_PATH, 'app_proj')\n",
    "sys.path.append(APPPROJ_PATH)\n",
    "import notebooks as NT\n",
    "print([x for x in dir(NT) if x[0]!='_' and len(x)>8])"
   ]
  },
  {
   "cell_type": "code",
   "execution_count": 3,
   "metadata": {
    "scrolled": false
   },
   "outputs": [
    {
     "name": "stdout",
     "output_type": "stream",
     "text": [
      "env: DEV\n"
     ]
    }
   ],
   "source": [
    "import django\n",
    "os.environ['DEPLOYMENT_ENV'] = NT.NOTEBOOK_ENV\n",
    "os.environ['DJANGO_ALLOW_ASYNC_UNSAFE'] = 'True'\n",
    "MODULE_PATH = os.path.dirname(os.getcwd())\n",
    "os.chdir(os.path.dirname(MODULE_PATH))\n",
    "django.setup()"
   ]
  },
  {
   "cell_type": "code",
   "execution_count": 4,
   "metadata": {},
   "outputs": [],
   "source": [
    "%load_ext autoreload\n",
    "%autoreload 2\n",
    "from IPython.core.interactiveshell import InteractiveShell\n",
    "InteractiveShell.ast_node_interactivity = 'all'"
   ]
  },
  {
   "cell_type": "markdown",
   "metadata": {},
   "source": [
    "### Create Users"
   ]
  },
  {
   "cell_type": "code",
   "execution_count": 5,
   "metadata": {
    "scrolled": false
   },
   "outputs": [
    {
     "name": "stdout",
     "output_type": "stream",
     "text": [
      "<class 'members.models.User'>\n"
     ]
    }
   ],
   "source": [
    "from django.contrib.auth import get_user_model\n",
    "userMd = get_user_model()\n",
    "print(userMd)"
   ]
  },
  {
   "cell_type": "code",
   "execution_count": 6,
   "metadata": {},
   "outputs": [
    {
     "data": {
      "text/html": [
       "<div>\n",
       "<style scoped>\n",
       "    .dataframe tbody tr th:only-of-type {\n",
       "        vertical-align: middle;\n",
       "    }\n",
       "\n",
       "    .dataframe tbody tr th {\n",
       "        vertical-align: top;\n",
       "    }\n",
       "\n",
       "    .dataframe thead th {\n",
       "        text-align: right;\n",
       "    }\n",
       "</style>\n",
       "<table border=\"1\" class=\"dataframe\">\n",
       "  <thead>\n",
       "    <tr style=\"text-align: right;\">\n",
       "      <th></th>\n",
       "      <th>id</th>\n",
       "      <th>last_login</th>\n",
       "      <th>is_superuser</th>\n",
       "      <th>unique_id</th>\n",
       "      <th>email</th>\n",
       "      <th>user_name</th>\n",
       "      <th>verified</th>\n",
       "      <th>active</th>\n",
       "      <th>date_joined</th>\n",
       "    </tr>\n",
       "  </thead>\n",
       "  <tbody>\n",
       "    <tr>\n",
       "      <th>0</th>\n",
       "      <td>7</td>\n",
       "      <td>None</td>\n",
       "      <td>False</td>\n",
       "      <td>958-8E8-79C</td>\n",
       "      <td>phil.busko@gmail.com</td>\n",
       "      <td>PhilBusko</td>\n",
       "      <td>True</td>\n",
       "      <td>True</td>\n",
       "      <td>2023-06-25 18:01:56.213306+00:00</td>\n",
       "    </tr>\n",
       "    <tr>\n",
       "      <th>1</th>\n",
       "      <td>8</td>\n",
       "      <td>None</td>\n",
       "      <td>True</td>\n",
       "      <td>F65-34C-349</td>\n",
       "      <td>admin@website-factory.org</td>\n",
       "      <td>Admin</td>\n",
       "      <td>True</td>\n",
       "      <td>True</td>\n",
       "      <td>2023-06-25 18:05:02.388651+00:00</td>\n",
       "    </tr>\n",
       "    <tr>\n",
       "      <th>2</th>\n",
       "      <td>9</td>\n",
       "      <td>None</td>\n",
       "      <td>False</td>\n",
       "      <td>BC7-FCF-B6C</td>\n",
       "      <td>testor1@website-factory.org</td>\n",
       "      <td>Testor1</td>\n",
       "      <td>True</td>\n",
       "      <td>True</td>\n",
       "      <td>2023-06-25 18:05:02.685462+00:00</td>\n",
       "    </tr>\n",
       "  </tbody>\n",
       "</table>\n",
       "</div>"
      ],
      "text/plain": [
       "   id last_login  is_superuser    unique_id                        email  \\\n",
       "0   7       None         False  958-8E8-79C         phil.busko@gmail.com   \n",
       "1   8       None          True  F65-34C-349    admin@website-factory.org   \n",
       "2   9       None         False  BC7-FCF-B6C  testor1@website-factory.org   \n",
       "\n",
       "   user_name  verified  active                      date_joined  \n",
       "0  PhilBusko      True    True 2023-06-25 18:01:56.213306+00:00  \n",
       "1      Admin      True    True 2023-06-25 18:05:02.388651+00:00  \n",
       "2    Testor1      True    True 2023-06-25 18:05:02.685462+00:00  "
      ]
     },
     "execution_count": 6,
     "metadata": {},
     "output_type": "execute_result"
    }
   ],
   "source": [
    "# delete all users\n",
    "\n",
    "# userMd.objects.all().delete()\n",
    "selectLs = list(userMd.objects.values())\n",
    "PD.DataFrame(selectLs).drop(['password'], axis=1, errors='ignore')"
   ]
  },
  {
   "cell_type": "code",
   "execution_count": 7,
   "metadata": {
    "scrolled": true
   },
   "outputs": [
    {
     "name": "stdout",
     "output_type": "stream",
     "text": [
      "UNIQUE constraint failed: members_user.email\n"
     ]
    }
   ],
   "source": [
    "try:\n",
    "    user = userMd.objects.create_superuser(email='admin@website-factory.org', password='2w3e$R%T', \n",
    "                                           verified=True, active=True)\n",
    "    print(user)\n",
    "except Exception as ex:\n",
    "    print(ex)"
   ]
  },
  {
   "cell_type": "code",
   "execution_count": 8,
   "metadata": {},
   "outputs": [
    {
     "name": "stdout",
     "output_type": "stream",
     "text": [
      "UNIQUE constraint failed: members_user.email\n"
     ]
    }
   ],
   "source": [
    "try:\n",
    "    user = userMd.objects.create_user(email='testor1@website-factory.org', password='2w3e$R%T', \n",
    "                                        verified=True, active=True)\n",
    "    print(user)\n",
    "except Exception as ex:\n",
    "    print(ex)"
   ]
  },
  {
   "cell_type": "markdown",
   "metadata": {},
   "source": [
    "### Check Users"
   ]
  },
  {
   "cell_type": "code",
   "execution_count": 9,
   "metadata": {
    "scrolled": true
   },
   "outputs": [
    {
     "data": {
      "text/html": [
       "<div>\n",
       "<style scoped>\n",
       "    .dataframe tbody tr th:only-of-type {\n",
       "        vertical-align: middle;\n",
       "    }\n",
       "\n",
       "    .dataframe tbody tr th {\n",
       "        vertical-align: top;\n",
       "    }\n",
       "\n",
       "    .dataframe thead th {\n",
       "        text-align: right;\n",
       "    }\n",
       "</style>\n",
       "<table border=\"1\" class=\"dataframe\">\n",
       "  <thead>\n",
       "    <tr style=\"text-align: right;\">\n",
       "      <th></th>\n",
       "      <th>id</th>\n",
       "      <th>last_login</th>\n",
       "      <th>is_superuser</th>\n",
       "      <th>unique_id</th>\n",
       "      <th>email</th>\n",
       "      <th>user_name</th>\n",
       "      <th>verified</th>\n",
       "      <th>active</th>\n",
       "      <th>date_joined</th>\n",
       "    </tr>\n",
       "  </thead>\n",
       "  <tbody>\n",
       "    <tr>\n",
       "      <th>0</th>\n",
       "      <td>7</td>\n",
       "      <td>None</td>\n",
       "      <td>False</td>\n",
       "      <td>958-8E8-79C</td>\n",
       "      <td>phil.busko@gmail.com</td>\n",
       "      <td>PhilBusko</td>\n",
       "      <td>True</td>\n",
       "      <td>True</td>\n",
       "      <td>2023-06-25 18:01:56.213306+00:00</td>\n",
       "    </tr>\n",
       "    <tr>\n",
       "      <th>1</th>\n",
       "      <td>8</td>\n",
       "      <td>None</td>\n",
       "      <td>True</td>\n",
       "      <td>F65-34C-349</td>\n",
       "      <td>admin@website-factory.org</td>\n",
       "      <td>Admin</td>\n",
       "      <td>True</td>\n",
       "      <td>True</td>\n",
       "      <td>2023-06-25 18:05:02.388651+00:00</td>\n",
       "    </tr>\n",
       "    <tr>\n",
       "      <th>2</th>\n",
       "      <td>9</td>\n",
       "      <td>None</td>\n",
       "      <td>False</td>\n",
       "      <td>BC7-FCF-B6C</td>\n",
       "      <td>testor1@website-factory.org</td>\n",
       "      <td>Testor1</td>\n",
       "      <td>True</td>\n",
       "      <td>True</td>\n",
       "      <td>2023-06-25 18:05:02.685462+00:00</td>\n",
       "    </tr>\n",
       "  </tbody>\n",
       "</table>\n",
       "</div>"
      ],
      "text/plain": [
       "   id last_login  is_superuser    unique_id                        email  \\\n",
       "0   7       None         False  958-8E8-79C         phil.busko@gmail.com   \n",
       "1   8       None          True  F65-34C-349    admin@website-factory.org   \n",
       "2   9       None         False  BC7-FCF-B6C  testor1@website-factory.org   \n",
       "\n",
       "   user_name  verified  active                      date_joined  \n",
       "0  PhilBusko      True    True 2023-06-25 18:01:56.213306+00:00  \n",
       "1      Admin      True    True 2023-06-25 18:05:02.388651+00:00  \n",
       "2    Testor1      True    True 2023-06-25 18:05:02.685462+00:00  "
      ]
     },
     "execution_count": 9,
     "metadata": {},
     "output_type": "execute_result"
    }
   ],
   "source": [
    "selectLs = list(userMd.objects.values())\n",
    "PD.DataFrame(selectLs).drop(['password'], axis=1, errors='ignore')"
   ]
  },
  {
   "cell_type": "code",
   "execution_count": 10,
   "metadata": {},
   "outputs": [],
   "source": [
    "from members.views import UserTokenGenerator\n",
    "tokenMaker = UserTokenGenerator()\n",
    "#dir(tokenMaker) "
   ]
  },
  {
   "cell_type": "code",
   "execution_count": null,
   "metadata": {},
   "outputs": [],
   "source": []
  }
 ],
 "metadata": {
  "kernelspec": {
   "display_name": "Python 3 (ipykernel)",
   "language": "python",
   "name": "python3"
  },
  "language_info": {
   "codemirror_mode": {
    "name": "ipython",
    "version": 3
   },
   "file_extension": ".py",
   "mimetype": "text/x-python",
   "name": "python",
   "nbconvert_exporter": "python",
   "pygments_lexer": "ipython3",
   "version": "3.8.2"
  }
 },
 "nbformat": 4,
 "nbformat_minor": 4
}
