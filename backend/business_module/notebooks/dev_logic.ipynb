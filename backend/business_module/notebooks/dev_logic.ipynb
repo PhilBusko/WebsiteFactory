{
 "cells": [
  {
   "cell_type": "markdown",
   "metadata": {},
   "source": [
    "# Logic Development\n",
    "\n",
    "**Objective:** Develop the python logic file independently of views.\n",
    "\n",
    "**Author:** Phil Busko"
   ]
  },
  {
   "cell_type": "code",
   "execution_count": 1,
   "metadata": {},
   "outputs": [],
   "source": [
    "import os, sys\n",
    "import pandas as PD"
   ]
  },
  {
   "cell_type": "code",
   "execution_count": 2,
   "metadata": {
    "scrolled": false
   },
   "outputs": [
    {
     "name": "stdout",
     "output_type": "stream",
     "text": [
      "['DataframeToDicts', 'GetRandom', 'NOTEBOOK_ENV']\n"
     ]
    }
   ],
   "source": [
    "BACKEND_PATH = os.path.dirname(os.path.dirname(os.getcwd()))\n",
    "APPPROJ_PATH = os.path.join(BACKEND_PATH, 'app_proj')\n",
    "sys.path.append(APPPROJ_PATH)\n",
    "import notebooks as NT\n",
    "print([x for x in dir(NT) if x[0]!='_' and len(x)>8])"
   ]
  },
  {
   "cell_type": "code",
   "execution_count": 3,
   "metadata": {},
   "outputs": [
    {
     "name": "stdout",
     "output_type": "stream",
     "text": [
      "env: DEV\n"
     ]
    }
   ],
   "source": [
    "import django\n",
    "os.environ['DEPLOYMENT_ENV'] = NT.NOTEBOOK_ENV\n",
    "os.environ['DJANGO_ALLOW_ASYNC_UNSAFE'] = 'True'\n",
    "MODULE_PATH = os.path.dirname(os.getcwd())\n",
    "os.chdir(os.path.dirname(MODULE_PATH))\n",
    "django.setup()"
   ]
  },
  {
   "cell_type": "code",
   "execution_count": 4,
   "metadata": {},
   "outputs": [
    {
     "name": "stdout",
     "output_type": "stream",
     "text": [
      "['BaseManager', 'DeleteTable', 'GetNativeTableCounts', 'GetTableCounts', 'GetTableDictionary', 'InsertBulk', 'InsertSingle']\n"
     ]
    }
   ],
   "source": [
    "import database as DB\n",
    "print([x for x in dir(DB) if x[0]!='_' and len(x)>8])"
   ]
  },
  {
   "cell_type": "code",
   "execution_count": 5,
   "metadata": {},
   "outputs": [
    {
     "name": "stdout",
     "output_type": "stream",
     "text": [
      "['GetSetInfo', 'GetSetNames', 'GetSetsByTheme', 'GetThemeGroups']\n"
     ]
    }
   ],
   "source": [
    "import business_module.models as BM\n",
    "import business_module.logic.custom as CT\n",
    "print([x for x in dir(CT) if x[0]!='_' and len(x)>8])"
   ]
  },
  {
   "cell_type": "code",
   "execution_count": 6,
   "metadata": {},
   "outputs": [],
   "source": [
    "%load_ext autoreload\n",
    "%autoreload 2\n",
    "from IPython.core.interactiveshell import InteractiveShell\n",
    "InteractiveShell.ast_node_interactivity = 'all'"
   ]
  },
  {
   "cell_type": "markdown",
   "metadata": {},
   "source": [
    "### Logic Functions"
   ]
  },
  {
   "cell_type": "code",
   "execution_count": 7,
   "metadata": {},
   "outputs": [
    {
     "data": {
      "text/html": [
       "<div>\n",
       "<style scoped>\n",
       "    .dataframe tbody tr th:only-of-type {\n",
       "        vertical-align: middle;\n",
       "    }\n",
       "\n",
       "    .dataframe tbody tr th {\n",
       "        vertical-align: top;\n",
       "    }\n",
       "\n",
       "    .dataframe thead th {\n",
       "        text-align: right;\n",
       "    }\n",
       "</style>\n",
       "<table border=\"1\" class=\"dataframe\">\n",
       "  <thead>\n",
       "    <tr style=\"text-align: right;\">\n",
       "      <th></th>\n",
       "      <th>id</th>\n",
       "      <th>SetNo</th>\n",
       "      <th>Name</th>\n",
       "      <th>Year</th>\n",
       "      <th>ThemeGroup</th>\n",
       "      <th>Theme</th>\n",
       "      <th>Subtheme</th>\n",
       "      <th>PriceStore</th>\n",
       "      <th>PriceNew</th>\n",
       "      <th>PriceUsed</th>\n",
       "      <th>PieceCount</th>\n",
       "      <th>MinifigCount</th>\n",
       "    </tr>\n",
       "  </thead>\n",
       "  <tbody>\n",
       "    <tr>\n",
       "      <th>0</th>\n",
       "      <td>1</td>\n",
       "      <td>858-1</td>\n",
       "      <td>Auto Engines</td>\n",
       "      <td>1980</td>\n",
       "      <td>Technical</td>\n",
       "      <td>Technic</td>\n",
       "      <td>None</td>\n",
       "      <td>NaN</td>\n",
       "      <td>NaN</td>\n",
       "      <td>51.0</td>\n",
       "      <td>242.0</td>\n",
       "      <td>0</td>\n",
       "    </tr>\n",
       "    <tr>\n",
       "      <th>1</th>\n",
       "      <td>2</td>\n",
       "      <td>1591-1</td>\n",
       "      <td>Danone Delivery Truck</td>\n",
       "      <td>1980</td>\n",
       "      <td>Modern day</td>\n",
       "      <td>Town</td>\n",
       "      <td>Special</td>\n",
       "      <td>NaN</td>\n",
       "      <td>129.0</td>\n",
       "      <td>28.0</td>\n",
       "      <td>40.0</td>\n",
       "      <td>0</td>\n",
       "    </tr>\n",
       "    <tr>\n",
       "      <th>2</th>\n",
       "      <td>3</td>\n",
       "      <td>1592-1</td>\n",
       "      <td>Town Square - Castle Scene</td>\n",
       "      <td>1980</td>\n",
       "      <td>Modern day</td>\n",
       "      <td>Town</td>\n",
       "      <td>Classic</td>\n",
       "      <td>NaN</td>\n",
       "      <td>1168.0</td>\n",
       "      <td>191.0</td>\n",
       "      <td>471.0</td>\n",
       "      <td>11</td>\n",
       "    </tr>\n",
       "    <tr>\n",
       "      <th>3</th>\n",
       "      <td>4</td>\n",
       "      <td>1651-2</td>\n",
       "      <td>Maersk Line Container Lorry</td>\n",
       "      <td>1980</td>\n",
       "      <td>Modern day</td>\n",
       "      <td>Town</td>\n",
       "      <td>Special</td>\n",
       "      <td>NaN</td>\n",
       "      <td>NaN</td>\n",
       "      <td>444.0</td>\n",
       "      <td>305.0</td>\n",
       "      <td>1</td>\n",
       "    </tr>\n",
       "    <tr>\n",
       "      <th>4</th>\n",
       "      <td>5</td>\n",
       "      <td>3602-1</td>\n",
       "      <td>Pram - Lisa Lamb Goes Walking</td>\n",
       "      <td>1980</td>\n",
       "      <td>Junior</td>\n",
       "      <td>Fabuland</td>\n",
       "      <td>None</td>\n",
       "      <td>NaN</td>\n",
       "      <td>NaN</td>\n",
       "      <td>8.0</td>\n",
       "      <td>3.0</td>\n",
       "      <td>1</td>\n",
       "    </tr>\n",
       "  </tbody>\n",
       "</table>\n",
       "</div>"
      ],
      "text/plain": [
       "   id   SetNo                           Name  Year  ThemeGroup     Theme  \\\n",
       "0   1   858-1                   Auto Engines  1980   Technical   Technic   \n",
       "1   2  1591-1          Danone Delivery Truck  1980  Modern day      Town   \n",
       "2   3  1592-1     Town Square - Castle Scene  1980  Modern day      Town   \n",
       "3   4  1651-2    Maersk Line Container Lorry  1980  Modern day      Town   \n",
       "4   5  3602-1  Pram - Lisa Lamb Goes Walking  1980      Junior  Fabuland   \n",
       "\n",
       "  Subtheme  PriceStore  PriceNew  PriceUsed  PieceCount  MinifigCount  \n",
       "0     None         NaN       NaN       51.0       242.0             0  \n",
       "1  Special         NaN     129.0       28.0        40.0             0  \n",
       "2  Classic         NaN    1168.0      191.0       471.0            11  \n",
       "3  Special         NaN       NaN      444.0       305.0             1  \n",
       "4     None         NaN       NaN        8.0         3.0             1  "
      ]
     },
     "execution_count": 7,
     "metadata": {},
     "output_type": "execute_result"
    },
    {
     "data": {
      "text/plain": [
       "['Technical',\n",
       " 'Modern day',\n",
       " 'Junior',\n",
       " 'Girls',\n",
       " 'Action/Adventure',\n",
       " 'Historical',\n",
       " 'Model making',\n",
       " 'Racing',\n",
       " 'Licensed',\n",
       " 'Constraction']"
      ]
     },
     "execution_count": 7,
     "metadata": {},
     "output_type": "execute_result"
    }
   ],
   "source": [
    "# get theme groups\n",
    "\n",
    "setsLs = DB.GetTableDictionary('business_module', 'LegoSet')\n",
    "setsDf = PD.DataFrame(setsLs)\n",
    "setsDf.head()\n",
    "\n",
    "themeLs = list(setsDf['ThemeGroup'].unique())\n",
    "themeLs"
   ]
  },
  {
   "cell_type": "code",
   "execution_count": 8,
   "metadata": {
    "scrolled": true
   },
   "outputs": [
    {
     "data": {
      "text/plain": [
       "['Auto Engines',\n",
       " 'Danone Delivery Truck',\n",
       " 'Town Square - Castle Scene',\n",
       " 'Maersk Line Container Lorry',\n",
       " 'Pram - Lisa Lamb Goes Walking',\n",
       " 'Mark Monkey with his Fruit Stall',\n",
       " 'Ricky Racoon and his Scooter',\n",
       " \"Charlie Crow's Carry-All\",\n",
       " \"Harry Horse and Clara Cow's Ice Cream Shoppe\",\n",
       " 'Rings']"
      ]
     },
     "execution_count": 8,
     "metadata": {},
     "output_type": "execute_result"
    }
   ],
   "source": [
    "# get set names\n",
    "\n",
    "setsLs = DB.GetTableDictionary('business_module', 'LegoSet')\n",
    "setsDf = PD.DataFrame(setsLs)\n",
    "#setsDf.head()\n",
    "\n",
    "setLs = list(setsDf['Name'].unique())\n",
    "setLs[:10]"
   ]
  },
  {
   "cell_type": "code",
   "execution_count": 9,
   "metadata": {},
   "outputs": [
    {
     "data": {
      "text/plain": [
       "[{'id': 2,\n",
       "  'SetNo': '1591-1',\n",
       "  'Name': 'Danone Delivery Truck',\n",
       "  'Year': 1980,\n",
       "  'Theme': 'Town',\n",
       "  'Pieces': 40.0,\n",
       "  'Minifigs': 0},\n",
       " {'id': 3,\n",
       "  'SetNo': '1592-1',\n",
       "  'Name': 'Town Square - Castle Scene',\n",
       "  'Year': 1980,\n",
       "  'Theme': 'Town',\n",
       "  'Pieces': 471.0,\n",
       "  'Minifigs': 11}]"
      ]
     },
     "execution_count": 9,
     "metadata": {},
     "output_type": "execute_result"
    }
   ],
   "source": [
    "# get sets by theme\n",
    "\n",
    "theme = 'Modern day'\n",
    "\n",
    "setsLs = DB.GetTableDictionary('business_module', 'LegoSet')\n",
    "setsDf = PD.DataFrame(setsLs)\n",
    "setsDf = setsDf[ setsDf['ThemeGroup']==theme ]\n",
    "dropCols = ['ThemeGroup', 'Subtheme', 'PriceStore', 'PriceNew', 'PriceUsed']\n",
    "trimDf = setsDf.drop(dropCols, axis=1, errors='ignore')\n",
    "trimDf = trimDf.rename({'PieceCount': 'Pieces', 'MinifigCount': 'Minifigs'}, axis='columns')\n",
    "themeLs = NT.DataframeToDicts(trimDf)\n",
    "themeLs[:2]"
   ]
  },
  {
   "cell_type": "code",
   "execution_count": 10,
   "metadata": {},
   "outputs": [
    {
     "data": {
      "text/plain": [
       "{'SetNo': '6086-1',\n",
       " 'Name': \"Black Knight's Castle\",\n",
       " 'Year': 1992,\n",
       " 'Theme': 'Castle',\n",
       " 'Subtheme': 'Black Knights',\n",
       " 'PriceNew': 1700.0,\n",
       " 'PriceUsed': 226.0,\n",
       " 'Pieces': 588.0,\n",
       " 'Minifigs': 12}"
      ]
     },
     "execution_count": 10,
     "metadata": {},
     "output_type": "execute_result"
    }
   ],
   "source": [
    "# get set info\n",
    "\n",
    "setName = \"Black Knight's Castle\"\n",
    "\n",
    "setsLs = DB.GetTableDictionary('business_module', 'LegoSet')\n",
    "setsDf = PD.DataFrame(setsLs)\n",
    "setsDf = setsDf[ setsDf['Name']==setName ]\n",
    "dropCols = ['id', 'ThemeGroup', 'PriceStore']\n",
    "trimDf = setsDf.drop(dropCols, axis=1, errors='ignore')\n",
    "trimDf = trimDf.rename({'PieceCount': 'Pieces', 'MinifigCount': 'Minifigs'}, axis='columns')\n",
    "setLs = NT.DataframeToDicts(trimDf)\n",
    "setDx = setLs[0]\n",
    "setDx"
   ]
  },
  {
   "cell_type": "code",
   "execution_count": null,
   "metadata": {},
   "outputs": [],
   "source": []
  }
 ],
 "metadata": {
  "kernelspec": {
   "display_name": "Python 3 (ipykernel)",
   "language": "python",
   "name": "python3"
  },
  "language_info": {
   "codemirror_mode": {
    "name": "ipython",
    "version": 3
   },
   "file_extension": ".py",
   "mimetype": "text/x-python",
   "name": "python",
   "nbconvert_exporter": "python",
   "pygments_lexer": "ipython3",
   "version": "3.8.2"
  }
 },
 "nbformat": 4,
 "nbformat_minor": 4
}
