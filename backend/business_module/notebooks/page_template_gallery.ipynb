{
 "cells": [
  {
   "cell_type": "markdown",
   "metadata": {},
   "source": [
    "# Create Gallery Page from Template"
   ]
  },
  {
   "cell_type": "code",
   "execution_count": 1,
   "metadata": {},
   "outputs": [],
   "source": [
    "import os, sys\n",
    "import pandas as PD"
   ]
  },
  {
   "cell_type": "code",
   "execution_count": 2,
   "metadata": {},
   "outputs": [
    {
     "name": "stdout",
     "output_type": "stream",
     "text": [
      "['DataframeToDicts', 'GetRandom', 'NOTEBOOK_ENV', 'random']\n"
     ]
    }
   ],
   "source": [
    "BACKEND_PATH = os.path.dirname(os.path.dirname(os.getcwd()))\n",
    "APPPROJ_PATH = os.path.join(BACKEND_PATH, 'app_proj')\n",
    "sys.path.append(APPPROJ_PATH)\n",
    "import notebooks as NT\n",
    "print([x for x in dir(NT) if x[0] != '_'])"
   ]
  },
  {
   "cell_type": "code",
   "execution_count": 3,
   "metadata": {
    "scrolled": false
   },
   "outputs": [
    {
     "name": "stdout",
     "output_type": "stream",
     "text": [
      "env: DEV\n"
     ]
    }
   ],
   "source": [
    "import django\n",
    "os.environ['DEPLOYMENT_ENV'] = NT.NOTEBOOK_ENV\n",
    "os.environ['DJANGO_ALLOW_ASYNC_UNSAFE'] = 'True'\n",
    "MODULE_PATH = os.path.dirname(os.getcwd())\n",
    "os.chdir(os.path.dirname(MODULE_PATH))\n",
    "django.setup()"
   ]
  },
  {
   "cell_type": "code",
   "execution_count": 4,
   "metadata": {},
   "outputs": [
    {
     "name": "stdout",
     "output_type": "stream",
     "text": [
      "C:\\Documents\\Code\\OpenStack\\WebsiteFactory\\codebase\\frontend\\components\\assets\\photos\n"
     ]
    }
   ],
   "source": [
    "FRONTEND_PATH = os.path.join(os.path.dirname(BACKEND_PATH), 'frontend')\n",
    "ASSETS_PATH = os.path.join(FRONTEND_PATH, 'components', 'assets')\n",
    "PHOTOS_PATH = os.path.join(ASSETS_PATH, 'photos')\n",
    "DATA_PATH = os.path.join(MODULE_PATH, 'data')\n",
    "print(PHOTOS_PATH)"
   ]
  },
  {
   "cell_type": "code",
   "execution_count": 5,
   "metadata": {},
   "outputs": [
    {
     "name": "stdout",
     "output_type": "stream",
     "text": [
      "<class 'module'>\n"
     ]
    }
   ],
   "source": [
    "from PIL import Image\n",
    "print(type(Image))"
   ]
  },
  {
   "cell_type": "code",
   "execution_count": 6,
   "metadata": {},
   "outputs": [],
   "source": [
    "%load_ext autoreload\n",
    "%autoreload 2\n",
    "from IPython.core.interactiveshell import InteractiveShell\n",
    "InteractiveShell.ast_node_interactivity = 'all'"
   ]
  },
  {
   "cell_type": "markdown",
   "metadata": {},
   "source": [
    "### Miniatures"
   ]
  },
  {
   "cell_type": "code",
   "execution_count": 7,
   "metadata": {},
   "outputs": [
    {
     "data": {
      "text/plain": [
       "8"
      ]
     },
     "execution_count": 7,
     "metadata": {},
     "output_type": "execute_result"
    }
   ],
   "source": [
    "photosRaw = [\n",
    "    { 'fileName': 'black.knights 1547 boat.jpg', 'title': \"Black Knight's Boat\", },\n",
    "    { 'fileName': 'black.knights 1624 kings.archer.jpg', 'title': \"King's Archer\", },\n",
    "    { 'fileName': 'black.knights 6009 black.knight.jpg', 'title': 'Black Knight', },\n",
    "    { 'fileName': 'black.knights 6034 monarchs.ghost.jpg', 'title': \"Monarch's Ghost\", },\n",
    "    { 'fileName': 'black.knights 6057 sea.serpent.jpg', 'title': 'Sea Serpent', },\n",
    "    { 'fileName': 'black.knights 6059 knights.stronghold.jpg', 'title': \"Knight's Stronghold\", },\n",
    "    { 'fileName': 'black.knights 6085 monarchs.castle 01.jpg', 'title': \"Monarch's Castle\",  },\n",
    "    { 'fileName': 'black.knights 6086 black.knights.castle.jpg', 'title': \"Black Knight's Castle\", },\n",
    "]\n",
    "len(photosRaw)"
   ]
  },
  {
   "cell_type": "code",
   "execution_count": 8,
   "metadata": {},
   "outputs": [
    {
     "data": {
      "text/plain": [
       "\"const photoLs = [\\n    {\\n        path: require('../assets/pho\""
      ]
     },
     "execution_count": 8,
     "metadata": {},
     "output_type": "execute_result"
    }
   ],
   "source": [
    "photosTx = \"\"\"const photoLs = [\"\"\"\n",
    "\n",
    "for tr in photosRaw:\n",
    "\n",
    "    filePath = os.path.join(PHOTOS_PATH, tr['fileName'])\n",
    "    image = Image.open(filePath)\n",
    "\n",
    "    photosTx += f\"\"\"\n",
    "    {{\n",
    "        path: require('../assets/photos/{tr['fileName']}'),\n",
    "        title: \"{tr['title']}\",\n",
    "        width: {image.size[0]},\n",
    "        height: {image.size[1]},\n",
    "    }},\"\"\"\n",
    "\n",
    "photosTx += \"\"\"\n",
    "];\"\"\"\n",
    "\n",
    "photosTx[:60]"
   ]
  },
  {
   "cell_type": "code",
   "execution_count": 9,
   "metadata": {},
   "outputs": [
    {
     "name": "stdout",
     "output_type": "stream",
     "text": [
      "template file chars: 1172\n"
     ]
    }
   ],
   "source": [
    "# open the template file\n",
    "\n",
    "templatePath = os.path.join(DATA_PATH, 'template-gallery.js')\n",
    "jsFile = open(templatePath, \"r\")\n",
    "contentTx = jsFile.read()\n",
    "jsFile.close()\n",
    "print(f\"template file chars: {len(contentTx)}\")"
   ]
  },
  {
   "cell_type": "code",
   "execution_count": 10,
   "metadata": {},
   "outputs": [
    {
     "data": {
      "text/plain": [
       "2540"
      ]
     },
     "execution_count": 10,
     "metadata": {},
     "output_type": "execute_result"
    },
    {
     "data": {
      "text/plain": [
       "True"
      ]
     },
     "execution_count": 10,
     "metadata": {},
     "output_type": "execute_result"
    }
   ],
   "source": [
    "# output to the frontend file \n",
    "\n",
    "contentTx = contentTx.replace('// PHOTOS', photosTx)\n",
    "#print(contentTx) \n",
    "\n",
    "exportPath = os.path.join(FRONTEND_PATH, 'components', 'page-routes', 'gallery-page.js')\n",
    "exportFile = open(exportPath, 'w')\n",
    "exportFile.write(contentTx)\n",
    "exportFile.close()\n",
    "os.path.exists(exportPath)"
   ]
  },
  {
   "cell_type": "code",
   "execution_count": null,
   "metadata": {},
   "outputs": [],
   "source": []
  }
 ],
 "metadata": {
  "kernelspec": {
   "display_name": "Python 3 (ipykernel)",
   "language": "python",
   "name": "python3"
  },
  "language_info": {
   "codemirror_mode": {
    "name": "ipython",
    "version": 3
   },
   "file_extension": ".py",
   "mimetype": "text/x-python",
   "name": "python",
   "nbconvert_exporter": "python",
   "pygments_lexer": "ipython3",
   "version": "3.8.2"
  }
 },
 "nbformat": 4,
 "nbformat_minor": 4
}
